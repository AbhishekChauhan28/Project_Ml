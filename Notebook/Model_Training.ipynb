{
 "cells": [
  {
   "cell_type": "code",
   "execution_count": null,
   "metadata": {},
   "outputs": [],
   "source": []
  }
 ],
 "metadata": {
  "kernelspec": {
   "display_name": "base",
   "language": "python",
   "name": "python3"
  },
  "language_info": {
   "name": "python",
   "version": "3.9.13"
  },
  "orig_nbformat": 4,
  "vscode": {
   "interpreter": {
    "hash": "dbc5df00f72d5953d49ab5b2956c5e69127d10ba971cadb0da84f29b3aaa1709"
   }
  }
 },
 "nbformat": 4,
 "nbformat_minor": 2
}
